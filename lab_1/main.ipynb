{
 "cells": [
  {
   "cell_type": "code",
   "execution_count": 1,
   "metadata": {
    "ExecuteTime": {
     "end_time": "2024-03-14T06:45:59.754688200Z",
     "start_time": "2024-03-14T06:45:59.675089700Z"
    }
   },
   "outputs": [],
   "source": [
    "import urllib3\n",
    "import os\n",
    "import requests\n",
    "from bs4 import BeautifulSoup as bs\n",
    "from tqdm import tqdm\n",
    "import time\n",
    "from lxml import etree\n",
    "import re"
   ]
  },
  {
   "cell_type": "code",
   "execution_count": 2,
   "metadata": {
    "ExecuteTime": {
     "end_time": "2024-03-14T06:45:59.775726300Z",
     "start_time": "2024-03-14T06:45:59.693470700Z"
    }
   },
   "outputs": [],
   "source": [
    "requests.adapters.DEFAULT_RETRIES =5\n",
    "# os.environ['CURL_CA_BUNDLE'] = ''"
   ]
  },
  {
   "cell_type": "code",
   "execution_count": 3,
   "metadata": {
    "ExecuteTime": {
     "end_time": "2024-03-14T06:45:59.775726300Z",
     "start_time": "2024-03-14T06:45:59.710292300Z"
    }
   },
   "outputs": [],
   "source": [
    "lsdir = os.listdir('.')\n",
    "if 'html_doc' not in lsdir:\n",
    "    os.mkdir('./html_doc')\n",
    "if 'dataset' not in lsdir:\n",
    "    os.mkdir('./dataset')\n",
    "os.chmod('./html_doc',0o777)\n",
    "aim = 'hug_dataset'\n",
    "html_path = os.path.join(os.getcwd(),'html_doc')\n",
    "web_path = os.path.join(os.getcwd(),'dataset')\n",
    "viewer_path = os.path.join(os.getcwd(),'viewer')"
   ]
  },
  {
   "cell_type": "code",
   "execution_count": 4,
   "metadata": {
    "ExecuteTime": {
     "end_time": "2024-03-14T06:45:59.775726300Z",
     "start_time": "2024-03-14T06:45:59.724195100Z"
    }
   },
   "outputs": [],
   "source": [
    "# 函数\n",
    "\n",
    "def save_web(text,data_path):\n",
    "    with open(data_path,'bw') as f:\n",
    "        f.write(text.encode('utf8'))"
   ]
  },
  {
   "cell_type": "code",
   "execution_count": 5,
   "metadata": {
    "ExecuteTime": {
     "end_time": "2024-03-14T06:45:59.776728100Z",
     "start_time": "2024-03-14T06:45:59.743679700Z"
    }
   },
   "outputs": [],
   "source": [
    "URL_HUB = dict()\n",
    "URL_DATA_HUB = dict()\n",
    "URL_DATA_ERROR_HUB = dict()\n",
    "HTML_DOC = dict()\n",
    "URL_HUB['baidu'] = r'https://www.baidu.com'\n",
    "URL_HUB['hug'] = r'https://huggingface.co/'\n",
    "URL_HUB['hug_dataset'] = r'https://huggingface.co/datasets'"
   ]
  },
  {
   "cell_type": "code",
   "execution_count": 10,
   "metadata": {
    "ExecuteTime": {
     "end_time": "2024-03-14T06:46:00.853935400Z",
     "start_time": "2024-03-14T06:46:00.846339300Z"
    }
   },
   "outputs": [
    {
     "ename": "SSLError",
     "evalue": "HTTPSConnectionPool(host='huggingface.co', port=443): Max retries exceeded with url: /datasets (Caused by SSLError(SSLZeroReturnError(6, 'TLS/SSL connection has been closed (EOF) (_ssl.c:1131)')))",
     "output_type": "error",
     "traceback": [
      "\u001b[1;31m---------------------------------------------------------------------------\u001b[0m",
      "\u001b[1;31mSSLZeroReturnError\u001b[0m                        Traceback (most recent call last)",
      "File \u001b[1;32mc:\\Users\\Elysia\\Downloads\\Anaconda\\envs\\v1\\lib\\site-packages\\urllib3\\connectionpool.py:712\u001b[0m, in \u001b[0;36mHTTPConnectionPool.urlopen\u001b[1;34m(self, method, url, body, headers, retries, redirect, assert_same_host, timeout, pool_timeout, release_conn, chunked, body_pos, **response_kw)\u001b[0m\n\u001b[0;32m    711\u001b[0m \u001b[38;5;28;01mif\u001b[39;00m is_new_proxy_conn \u001b[38;5;129;01mand\u001b[39;00m http_tunnel_required:\n\u001b[1;32m--> 712\u001b[0m     \u001b[38;5;28;43mself\u001b[39;49m\u001b[38;5;241;43m.\u001b[39;49m\u001b[43m_prepare_proxy\u001b[49m\u001b[43m(\u001b[49m\u001b[43mconn\u001b[49m\u001b[43m)\u001b[49m\n\u001b[0;32m    714\u001b[0m \u001b[38;5;66;03m# Make the request on the httplib connection object.\u001b[39;00m\n",
      "File \u001b[1;32mc:\\Users\\Elysia\\Downloads\\Anaconda\\envs\\v1\\lib\\site-packages\\urllib3\\connectionpool.py:1012\u001b[0m, in \u001b[0;36mHTTPSConnectionPool._prepare_proxy\u001b[1;34m(self, conn)\u001b[0m\n\u001b[0;32m   1010\u001b[0m     conn\u001b[38;5;241m.\u001b[39mtls_in_tls_required \u001b[38;5;241m=\u001b[39m \u001b[38;5;28;01mTrue\u001b[39;00m\n\u001b[1;32m-> 1012\u001b[0m \u001b[43mconn\u001b[49m\u001b[38;5;241;43m.\u001b[39;49m\u001b[43mconnect\u001b[49m\u001b[43m(\u001b[49m\u001b[43m)\u001b[49m\n",
      "File \u001b[1;32mc:\\Users\\Elysia\\Downloads\\Anaconda\\envs\\v1\\lib\\site-packages\\urllib3\\connection.py:369\u001b[0m, in \u001b[0;36mHTTPSConnection.connect\u001b[1;34m(self)\u001b[0m\n\u001b[0;32m    368\u001b[0m \u001b[38;5;28;01mif\u001b[39;00m \u001b[38;5;28mself\u001b[39m\u001b[38;5;241m.\u001b[39mtls_in_tls_required:\n\u001b[1;32m--> 369\u001b[0m     \u001b[38;5;28mself\u001b[39m\u001b[38;5;241m.\u001b[39msock \u001b[38;5;241m=\u001b[39m conn \u001b[38;5;241m=\u001b[39m \u001b[38;5;28;43mself\u001b[39;49m\u001b[38;5;241;43m.\u001b[39;49m\u001b[43m_connect_tls_proxy\u001b[49m\u001b[43m(\u001b[49m\u001b[43mhostname\u001b[49m\u001b[43m,\u001b[49m\u001b[43m \u001b[49m\u001b[43mconn\u001b[49m\u001b[43m)\u001b[49m\n\u001b[0;32m    370\u001b[0m     tls_in_tls \u001b[38;5;241m=\u001b[39m \u001b[38;5;28;01mTrue\u001b[39;00m\n",
      "File \u001b[1;32mc:\\Users\\Elysia\\Downloads\\Anaconda\\envs\\v1\\lib\\site-packages\\urllib3\\connection.py:504\u001b[0m, in \u001b[0;36mHTTPSConnection._connect_tls_proxy\u001b[1;34m(self, hostname, conn)\u001b[0m\n\u001b[0;32m    502\u001b[0m \u001b[38;5;66;03m# If no cert was provided, use only the default options for server\u001b[39;00m\n\u001b[0;32m    503\u001b[0m \u001b[38;5;66;03m# certificate validation\u001b[39;00m\n\u001b[1;32m--> 504\u001b[0m socket \u001b[38;5;241m=\u001b[39m \u001b[43mssl_wrap_socket\u001b[49m\u001b[43m(\u001b[49m\n\u001b[0;32m    505\u001b[0m \u001b[43m    \u001b[49m\u001b[43msock\u001b[49m\u001b[38;5;241;43m=\u001b[39;49m\u001b[43mconn\u001b[49m\u001b[43m,\u001b[49m\n\u001b[0;32m    506\u001b[0m \u001b[43m    \u001b[49m\u001b[43mca_certs\u001b[49m\u001b[38;5;241;43m=\u001b[39;49m\u001b[38;5;28;43mself\u001b[39;49m\u001b[38;5;241;43m.\u001b[39;49m\u001b[43mca_certs\u001b[49m\u001b[43m,\u001b[49m\n\u001b[0;32m    507\u001b[0m \u001b[43m    \u001b[49m\u001b[43mca_cert_dir\u001b[49m\u001b[38;5;241;43m=\u001b[39;49m\u001b[38;5;28;43mself\u001b[39;49m\u001b[38;5;241;43m.\u001b[39;49m\u001b[43mca_cert_dir\u001b[49m\u001b[43m,\u001b[49m\n\u001b[0;32m    508\u001b[0m \u001b[43m    \u001b[49m\u001b[43mca_cert_data\u001b[49m\u001b[38;5;241;43m=\u001b[39;49m\u001b[38;5;28;43mself\u001b[39;49m\u001b[38;5;241;43m.\u001b[39;49m\u001b[43mca_cert_data\u001b[49m\u001b[43m,\u001b[49m\n\u001b[0;32m    509\u001b[0m \u001b[43m    \u001b[49m\u001b[43mserver_hostname\u001b[49m\u001b[38;5;241;43m=\u001b[39;49m\u001b[43mhostname\u001b[49m\u001b[43m,\u001b[49m\n\u001b[0;32m    510\u001b[0m \u001b[43m    \u001b[49m\u001b[43mssl_context\u001b[49m\u001b[38;5;241;43m=\u001b[39;49m\u001b[43mssl_context\u001b[49m\u001b[43m,\u001b[49m\n\u001b[0;32m    511\u001b[0m \u001b[43m\u001b[49m\u001b[43m)\u001b[49m\n\u001b[0;32m    513\u001b[0m \u001b[38;5;28;01mif\u001b[39;00m ssl_context\u001b[38;5;241m.\u001b[39mverify_mode \u001b[38;5;241m!=\u001b[39m ssl\u001b[38;5;241m.\u001b[39mCERT_NONE \u001b[38;5;129;01mand\u001b[39;00m \u001b[38;5;129;01mnot\u001b[39;00m \u001b[38;5;28mgetattr\u001b[39m(\n\u001b[0;32m    514\u001b[0m     ssl_context, \u001b[38;5;124m\"\u001b[39m\u001b[38;5;124mcheck_hostname\u001b[39m\u001b[38;5;124m\"\u001b[39m, \u001b[38;5;28;01mFalse\u001b[39;00m\n\u001b[0;32m    515\u001b[0m ):\n\u001b[0;32m    516\u001b[0m     \u001b[38;5;66;03m# While urllib3 attempts to always turn off hostname matching from\u001b[39;00m\n\u001b[0;32m    517\u001b[0m     \u001b[38;5;66;03m# the TLS library, this cannot always be done. So we check whether\u001b[39;00m\n\u001b[0;32m    518\u001b[0m     \u001b[38;5;66;03m# the TLS Library still thinks it's matching hostnames.\u001b[39;00m\n",
      "File \u001b[1;32mc:\\Users\\Elysia\\Downloads\\Anaconda\\envs\\v1\\lib\\site-packages\\urllib3\\util\\ssl_.py:453\u001b[0m, in \u001b[0;36mssl_wrap_socket\u001b[1;34m(sock, keyfile, certfile, cert_reqs, ca_certs, server_hostname, ssl_version, ciphers, ssl_context, ca_cert_dir, key_password, ca_cert_data, tls_in_tls)\u001b[0m\n\u001b[0;32m    452\u001b[0m \u001b[38;5;28;01melse\u001b[39;00m:\n\u001b[1;32m--> 453\u001b[0m     ssl_sock \u001b[38;5;241m=\u001b[39m \u001b[43m_ssl_wrap_socket_impl\u001b[49m\u001b[43m(\u001b[49m\u001b[43msock\u001b[49m\u001b[43m,\u001b[49m\u001b[43m \u001b[49m\u001b[43mcontext\u001b[49m\u001b[43m,\u001b[49m\u001b[43m \u001b[49m\u001b[43mtls_in_tls\u001b[49m\u001b[43m)\u001b[49m\n\u001b[0;32m    454\u001b[0m \u001b[38;5;28;01mreturn\u001b[39;00m ssl_sock\n",
      "File \u001b[1;32mc:\\Users\\Elysia\\Downloads\\Anaconda\\envs\\v1\\lib\\site-packages\\urllib3\\util\\ssl_.py:495\u001b[0m, in \u001b[0;36m_ssl_wrap_socket_impl\u001b[1;34m(sock, ssl_context, tls_in_tls, server_hostname)\u001b[0m\n\u001b[0;32m    494\u001b[0m \u001b[38;5;28;01melse\u001b[39;00m:\n\u001b[1;32m--> 495\u001b[0m     \u001b[38;5;28;01mreturn\u001b[39;00m \u001b[43mssl_context\u001b[49m\u001b[38;5;241;43m.\u001b[39;49m\u001b[43mwrap_socket\u001b[49m\u001b[43m(\u001b[49m\u001b[43msock\u001b[49m\u001b[43m)\u001b[49m\n",
      "File \u001b[1;32mc:\\Users\\Elysia\\Downloads\\Anaconda\\envs\\v1\\lib\\ssl.py:500\u001b[0m, in \u001b[0;36mSSLContext.wrap_socket\u001b[1;34m(self, sock, server_side, do_handshake_on_connect, suppress_ragged_eofs, server_hostname, session)\u001b[0m\n\u001b[0;32m    494\u001b[0m \u001b[38;5;28;01mdef\u001b[39;00m \u001b[38;5;21mwrap_socket\u001b[39m(\u001b[38;5;28mself\u001b[39m, sock, server_side\u001b[38;5;241m=\u001b[39m\u001b[38;5;28;01mFalse\u001b[39;00m,\n\u001b[0;32m    495\u001b[0m                 do_handshake_on_connect\u001b[38;5;241m=\u001b[39m\u001b[38;5;28;01mTrue\u001b[39;00m,\n\u001b[0;32m    496\u001b[0m                 suppress_ragged_eofs\u001b[38;5;241m=\u001b[39m\u001b[38;5;28;01mTrue\u001b[39;00m,\n\u001b[0;32m    497\u001b[0m                 server_hostname\u001b[38;5;241m=\u001b[39m\u001b[38;5;28;01mNone\u001b[39;00m, session\u001b[38;5;241m=\u001b[39m\u001b[38;5;28;01mNone\u001b[39;00m):\n\u001b[0;32m    498\u001b[0m     \u001b[38;5;66;03m# SSLSocket class handles server_hostname encoding before it calls\u001b[39;00m\n\u001b[0;32m    499\u001b[0m     \u001b[38;5;66;03m# ctx._wrap_socket()\u001b[39;00m\n\u001b[1;32m--> 500\u001b[0m     \u001b[38;5;28;01mreturn\u001b[39;00m \u001b[38;5;28;43mself\u001b[39;49m\u001b[38;5;241;43m.\u001b[39;49m\u001b[43msslsocket_class\u001b[49m\u001b[38;5;241;43m.\u001b[39;49m\u001b[43m_create\u001b[49m\u001b[43m(\u001b[49m\n\u001b[0;32m    501\u001b[0m \u001b[43m        \u001b[49m\u001b[43msock\u001b[49m\u001b[38;5;241;43m=\u001b[39;49m\u001b[43msock\u001b[49m\u001b[43m,\u001b[49m\n\u001b[0;32m    502\u001b[0m \u001b[43m        \u001b[49m\u001b[43mserver_side\u001b[49m\u001b[38;5;241;43m=\u001b[39;49m\u001b[43mserver_side\u001b[49m\u001b[43m,\u001b[49m\n\u001b[0;32m    503\u001b[0m \u001b[43m        \u001b[49m\u001b[43mdo_handshake_on_connect\u001b[49m\u001b[38;5;241;43m=\u001b[39;49m\u001b[43mdo_handshake_on_connect\u001b[49m\u001b[43m,\u001b[49m\n\u001b[0;32m    504\u001b[0m \u001b[43m        \u001b[49m\u001b[43msuppress_ragged_eofs\u001b[49m\u001b[38;5;241;43m=\u001b[39;49m\u001b[43msuppress_ragged_eofs\u001b[49m\u001b[43m,\u001b[49m\n\u001b[0;32m    505\u001b[0m \u001b[43m        \u001b[49m\u001b[43mserver_hostname\u001b[49m\u001b[38;5;241;43m=\u001b[39;49m\u001b[43mserver_hostname\u001b[49m\u001b[43m,\u001b[49m\n\u001b[0;32m    506\u001b[0m \u001b[43m        \u001b[49m\u001b[43mcontext\u001b[49m\u001b[38;5;241;43m=\u001b[39;49m\u001b[38;5;28;43mself\u001b[39;49m\u001b[43m,\u001b[49m\n\u001b[0;32m    507\u001b[0m \u001b[43m        \u001b[49m\u001b[43msession\u001b[49m\u001b[38;5;241;43m=\u001b[39;49m\u001b[43msession\u001b[49m\n\u001b[0;32m    508\u001b[0m \u001b[43m    \u001b[49m\u001b[43m)\u001b[49m\n",
      "File \u001b[1;32mc:\\Users\\Elysia\\Downloads\\Anaconda\\envs\\v1\\lib\\ssl.py:1073\u001b[0m, in \u001b[0;36mSSLSocket._create\u001b[1;34m(cls, sock, server_side, do_handshake_on_connect, suppress_ragged_eofs, server_hostname, context, session)\u001b[0m\n\u001b[0;32m   1072\u001b[0m             \u001b[38;5;28;01mraise\u001b[39;00m \u001b[38;5;167;01mValueError\u001b[39;00m(\u001b[38;5;124m\"\u001b[39m\u001b[38;5;124mdo_handshake_on_connect should not be specified for non-blocking sockets\u001b[39m\u001b[38;5;124m\"\u001b[39m)\n\u001b[1;32m-> 1073\u001b[0m         \u001b[38;5;28;43mself\u001b[39;49m\u001b[38;5;241;43m.\u001b[39;49m\u001b[43mdo_handshake\u001b[49m\u001b[43m(\u001b[49m\u001b[43m)\u001b[49m\n\u001b[0;32m   1074\u001b[0m \u001b[38;5;28;01mexcept\u001b[39;00m (\u001b[38;5;167;01mOSError\u001b[39;00m, \u001b[38;5;167;01mValueError\u001b[39;00m):\n",
      "File \u001b[1;32mc:\\Users\\Elysia\\Downloads\\Anaconda\\envs\\v1\\lib\\ssl.py:1342\u001b[0m, in \u001b[0;36mSSLSocket.do_handshake\u001b[1;34m(self, block)\u001b[0m\n\u001b[0;32m   1341\u001b[0m         \u001b[38;5;28mself\u001b[39m\u001b[38;5;241m.\u001b[39msettimeout(\u001b[38;5;28;01mNone\u001b[39;00m)\n\u001b[1;32m-> 1342\u001b[0m     \u001b[38;5;28;43mself\u001b[39;49m\u001b[38;5;241;43m.\u001b[39;49m\u001b[43m_sslobj\u001b[49m\u001b[38;5;241;43m.\u001b[39;49m\u001b[43mdo_handshake\u001b[49m\u001b[43m(\u001b[49m\u001b[43m)\u001b[49m\n\u001b[0;32m   1343\u001b[0m \u001b[38;5;28;01mfinally\u001b[39;00m:\n",
      "\u001b[1;31mSSLZeroReturnError\u001b[0m: TLS/SSL connection has been closed (EOF) (_ssl.c:1131)",
      "\nDuring handling of the above exception, another exception occurred:\n",
      "\u001b[1;31mMaxRetryError\u001b[0m                             Traceback (most recent call last)",
      "File \u001b[1;32mc:\\Users\\Elysia\\Downloads\\Anaconda\\envs\\v1\\lib\\site-packages\\requests\\adapters.py:440\u001b[0m, in \u001b[0;36mHTTPAdapter.send\u001b[1;34m(self, request, stream, timeout, verify, cert, proxies)\u001b[0m\n\u001b[0;32m    439\u001b[0m \u001b[38;5;28;01mif\u001b[39;00m \u001b[38;5;129;01mnot\u001b[39;00m chunked:\n\u001b[1;32m--> 440\u001b[0m     resp \u001b[38;5;241m=\u001b[39m \u001b[43mconn\u001b[49m\u001b[38;5;241;43m.\u001b[39;49m\u001b[43murlopen\u001b[49m\u001b[43m(\u001b[49m\n\u001b[0;32m    441\u001b[0m \u001b[43m        \u001b[49m\u001b[43mmethod\u001b[49m\u001b[38;5;241;43m=\u001b[39;49m\u001b[43mrequest\u001b[49m\u001b[38;5;241;43m.\u001b[39;49m\u001b[43mmethod\u001b[49m\u001b[43m,\u001b[49m\n\u001b[0;32m    442\u001b[0m \u001b[43m        \u001b[49m\u001b[43murl\u001b[49m\u001b[38;5;241;43m=\u001b[39;49m\u001b[43murl\u001b[49m\u001b[43m,\u001b[49m\n\u001b[0;32m    443\u001b[0m \u001b[43m        \u001b[49m\u001b[43mbody\u001b[49m\u001b[38;5;241;43m=\u001b[39;49m\u001b[43mrequest\u001b[49m\u001b[38;5;241;43m.\u001b[39;49m\u001b[43mbody\u001b[49m\u001b[43m,\u001b[49m\n\u001b[0;32m    444\u001b[0m \u001b[43m        \u001b[49m\u001b[43mheaders\u001b[49m\u001b[38;5;241;43m=\u001b[39;49m\u001b[43mrequest\u001b[49m\u001b[38;5;241;43m.\u001b[39;49m\u001b[43mheaders\u001b[49m\u001b[43m,\u001b[49m\n\u001b[0;32m    445\u001b[0m \u001b[43m        \u001b[49m\u001b[43mredirect\u001b[49m\u001b[38;5;241;43m=\u001b[39;49m\u001b[38;5;28;43;01mFalse\u001b[39;49;00m\u001b[43m,\u001b[49m\n\u001b[0;32m    446\u001b[0m \u001b[43m        \u001b[49m\u001b[43massert_same_host\u001b[49m\u001b[38;5;241;43m=\u001b[39;49m\u001b[38;5;28;43;01mFalse\u001b[39;49;00m\u001b[43m,\u001b[49m\n\u001b[0;32m    447\u001b[0m \u001b[43m        \u001b[49m\u001b[43mpreload_content\u001b[49m\u001b[38;5;241;43m=\u001b[39;49m\u001b[38;5;28;43;01mFalse\u001b[39;49;00m\u001b[43m,\u001b[49m\n\u001b[0;32m    448\u001b[0m \u001b[43m        \u001b[49m\u001b[43mdecode_content\u001b[49m\u001b[38;5;241;43m=\u001b[39;49m\u001b[38;5;28;43;01mFalse\u001b[39;49;00m\u001b[43m,\u001b[49m\n\u001b[0;32m    449\u001b[0m \u001b[43m        \u001b[49m\u001b[43mretries\u001b[49m\u001b[38;5;241;43m=\u001b[39;49m\u001b[38;5;28;43mself\u001b[39;49m\u001b[38;5;241;43m.\u001b[39;49m\u001b[43mmax_retries\u001b[49m\u001b[43m,\u001b[49m\n\u001b[0;32m    450\u001b[0m \u001b[43m        \u001b[49m\u001b[43mtimeout\u001b[49m\u001b[38;5;241;43m=\u001b[39;49m\u001b[43mtimeout\u001b[49m\n\u001b[0;32m    451\u001b[0m \u001b[43m    \u001b[49m\u001b[43m)\u001b[49m\n\u001b[0;32m    453\u001b[0m \u001b[38;5;66;03m# Send the request.\u001b[39;00m\n\u001b[0;32m    454\u001b[0m \u001b[38;5;28;01melse\u001b[39;00m:\n",
      "File \u001b[1;32mc:\\Users\\Elysia\\Downloads\\Anaconda\\envs\\v1\\lib\\site-packages\\urllib3\\connectionpool.py:799\u001b[0m, in \u001b[0;36mHTTPConnectionPool.urlopen\u001b[1;34m(self, method, url, body, headers, retries, redirect, assert_same_host, timeout, pool_timeout, release_conn, chunked, body_pos, **response_kw)\u001b[0m\n\u001b[0;32m    797\u001b[0m     e \u001b[38;5;241m=\u001b[39m ProtocolError(\u001b[38;5;124m\"\u001b[39m\u001b[38;5;124mConnection aborted.\u001b[39m\u001b[38;5;124m\"\u001b[39m, e)\n\u001b[1;32m--> 799\u001b[0m retries \u001b[38;5;241m=\u001b[39m \u001b[43mretries\u001b[49m\u001b[38;5;241;43m.\u001b[39;49m\u001b[43mincrement\u001b[49m\u001b[43m(\u001b[49m\n\u001b[0;32m    800\u001b[0m \u001b[43m    \u001b[49m\u001b[43mmethod\u001b[49m\u001b[43m,\u001b[49m\u001b[43m \u001b[49m\u001b[43murl\u001b[49m\u001b[43m,\u001b[49m\u001b[43m \u001b[49m\u001b[43merror\u001b[49m\u001b[38;5;241;43m=\u001b[39;49m\u001b[43me\u001b[49m\u001b[43m,\u001b[49m\u001b[43m \u001b[49m\u001b[43m_pool\u001b[49m\u001b[38;5;241;43m=\u001b[39;49m\u001b[38;5;28;43mself\u001b[39;49m\u001b[43m,\u001b[49m\u001b[43m \u001b[49m\u001b[43m_stacktrace\u001b[49m\u001b[38;5;241;43m=\u001b[39;49m\u001b[43msys\u001b[49m\u001b[38;5;241;43m.\u001b[39;49m\u001b[43mexc_info\u001b[49m\u001b[43m(\u001b[49m\u001b[43m)\u001b[49m\u001b[43m[\u001b[49m\u001b[38;5;241;43m2\u001b[39;49m\u001b[43m]\u001b[49m\n\u001b[0;32m    801\u001b[0m \u001b[43m\u001b[49m\u001b[43m)\u001b[49m\n\u001b[0;32m    802\u001b[0m retries\u001b[38;5;241m.\u001b[39msleep()\n",
      "File \u001b[1;32mc:\\Users\\Elysia\\Downloads\\Anaconda\\envs\\v1\\lib\\site-packages\\urllib3\\util\\retry.py:592\u001b[0m, in \u001b[0;36mRetry.increment\u001b[1;34m(self, method, url, response, error, _pool, _stacktrace)\u001b[0m\n\u001b[0;32m    591\u001b[0m \u001b[38;5;28;01mif\u001b[39;00m new_retry\u001b[38;5;241m.\u001b[39mis_exhausted():\n\u001b[1;32m--> 592\u001b[0m     \u001b[38;5;28;01mraise\u001b[39;00m MaxRetryError(_pool, url, error \u001b[38;5;129;01mor\u001b[39;00m ResponseError(cause))\n\u001b[0;32m    594\u001b[0m log\u001b[38;5;241m.\u001b[39mdebug(\u001b[38;5;124m\"\u001b[39m\u001b[38;5;124mIncremented Retry for (url=\u001b[39m\u001b[38;5;124m'\u001b[39m\u001b[38;5;132;01m%s\u001b[39;00m\u001b[38;5;124m'\u001b[39m\u001b[38;5;124m): \u001b[39m\u001b[38;5;132;01m%r\u001b[39;00m\u001b[38;5;124m\"\u001b[39m, url, new_retry)\n",
      "\u001b[1;31mMaxRetryError\u001b[0m: HTTPSConnectionPool(host='huggingface.co', port=443): Max retries exceeded with url: /datasets (Caused by SSLError(SSLZeroReturnError(6, 'TLS/SSL connection has been closed (EOF) (_ssl.c:1131)')))",
      "\nDuring handling of the above exception, another exception occurred:\n",
      "\u001b[1;31mSSLError\u001b[0m                                  Traceback (most recent call last)",
      "Cell \u001b[1;32mIn[10], line 1\u001b[0m\n\u001b[1;32m----> 1\u001b[0m dataset_web_respond \u001b[38;5;241m=\u001b[39m \u001b[43mrequests\u001b[49m\u001b[38;5;241;43m.\u001b[39;49m\u001b[43mget\u001b[49m\u001b[43m(\u001b[49m\u001b[43murl\u001b[49m\u001b[38;5;241;43m=\u001b[39;49m\u001b[43mURL_HUB\u001b[49m\u001b[43m[\u001b[49m\u001b[38;5;124;43m'\u001b[39;49m\u001b[38;5;124;43mhug_dataset\u001b[39;49m\u001b[38;5;124;43m'\u001b[39;49m\u001b[43m]\u001b[49m\u001b[43m)\u001b[49m\n\u001b[0;32m      2\u001b[0m dataset_html \u001b[38;5;241m=\u001b[39m dataset_web_respond\u001b[38;5;241m.\u001b[39mtext\n\u001b[0;32m      3\u001b[0m soup \u001b[38;5;241m=\u001b[39m bs(dataset_html,\u001b[38;5;124m'\u001b[39m\u001b[38;5;124mlxml\u001b[39m\u001b[38;5;124m'\u001b[39m)\n",
      "File \u001b[1;32mc:\\Users\\Elysia\\Downloads\\Anaconda\\envs\\v1\\lib\\site-packages\\requests\\api.py:75\u001b[0m, in \u001b[0;36mget\u001b[1;34m(url, params, **kwargs)\u001b[0m\n\u001b[0;32m     64\u001b[0m \u001b[38;5;28;01mdef\u001b[39;00m \u001b[38;5;21mget\u001b[39m(url, params\u001b[38;5;241m=\u001b[39m\u001b[38;5;28;01mNone\u001b[39;00m, \u001b[38;5;241m*\u001b[39m\u001b[38;5;241m*\u001b[39mkwargs):\n\u001b[0;32m     65\u001b[0m \u001b[38;5;250m    \u001b[39m\u001b[38;5;124mr\u001b[39m\u001b[38;5;124;03m\"\"\"Sends a GET request.\u001b[39;00m\n\u001b[0;32m     66\u001b[0m \n\u001b[0;32m     67\u001b[0m \u001b[38;5;124;03m    :param url: URL for the new :class:`Request` object.\u001b[39;00m\n\u001b[1;32m   (...)\u001b[0m\n\u001b[0;32m     72\u001b[0m \u001b[38;5;124;03m    :rtype: requests.Response\u001b[39;00m\n\u001b[0;32m     73\u001b[0m \u001b[38;5;124;03m    \"\"\"\u001b[39;00m\n\u001b[1;32m---> 75\u001b[0m     \u001b[38;5;28;01mreturn\u001b[39;00m \u001b[43mrequest\u001b[49m\u001b[43m(\u001b[49m\u001b[38;5;124;43m'\u001b[39;49m\u001b[38;5;124;43mget\u001b[39;49m\u001b[38;5;124;43m'\u001b[39;49m\u001b[43m,\u001b[49m\u001b[43m \u001b[49m\u001b[43murl\u001b[49m\u001b[43m,\u001b[49m\u001b[43m \u001b[49m\u001b[43mparams\u001b[49m\u001b[38;5;241;43m=\u001b[39;49m\u001b[43mparams\u001b[49m\u001b[43m,\u001b[49m\u001b[43m \u001b[49m\u001b[38;5;241;43m*\u001b[39;49m\u001b[38;5;241;43m*\u001b[39;49m\u001b[43mkwargs\u001b[49m\u001b[43m)\u001b[49m\n",
      "File \u001b[1;32mc:\\Users\\Elysia\\Downloads\\Anaconda\\envs\\v1\\lib\\site-packages\\requests\\api.py:61\u001b[0m, in \u001b[0;36mrequest\u001b[1;34m(method, url, **kwargs)\u001b[0m\n\u001b[0;32m     57\u001b[0m \u001b[38;5;66;03m# By using the 'with' statement we are sure the session is closed, thus we\u001b[39;00m\n\u001b[0;32m     58\u001b[0m \u001b[38;5;66;03m# avoid leaving sockets open which can trigger a ResourceWarning in some\u001b[39;00m\n\u001b[0;32m     59\u001b[0m \u001b[38;5;66;03m# cases, and look like a memory leak in others.\u001b[39;00m\n\u001b[0;32m     60\u001b[0m \u001b[38;5;28;01mwith\u001b[39;00m sessions\u001b[38;5;241m.\u001b[39mSession() \u001b[38;5;28;01mas\u001b[39;00m session:\n\u001b[1;32m---> 61\u001b[0m     \u001b[38;5;28;01mreturn\u001b[39;00m \u001b[43msession\u001b[49m\u001b[38;5;241;43m.\u001b[39;49m\u001b[43mrequest\u001b[49m\u001b[43m(\u001b[49m\u001b[43mmethod\u001b[49m\u001b[38;5;241;43m=\u001b[39;49m\u001b[43mmethod\u001b[49m\u001b[43m,\u001b[49m\u001b[43m \u001b[49m\u001b[43murl\u001b[49m\u001b[38;5;241;43m=\u001b[39;49m\u001b[43murl\u001b[49m\u001b[43m,\u001b[49m\u001b[43m \u001b[49m\u001b[38;5;241;43m*\u001b[39;49m\u001b[38;5;241;43m*\u001b[39;49m\u001b[43mkwargs\u001b[49m\u001b[43m)\u001b[49m\n",
      "File \u001b[1;32mc:\\Users\\Elysia\\Downloads\\Anaconda\\envs\\v1\\lib\\site-packages\\requests\\sessions.py:529\u001b[0m, in \u001b[0;36mSession.request\u001b[1;34m(self, method, url, params, data, headers, cookies, files, auth, timeout, allow_redirects, proxies, hooks, stream, verify, cert, json)\u001b[0m\n\u001b[0;32m    524\u001b[0m send_kwargs \u001b[38;5;241m=\u001b[39m {\n\u001b[0;32m    525\u001b[0m     \u001b[38;5;124m'\u001b[39m\u001b[38;5;124mtimeout\u001b[39m\u001b[38;5;124m'\u001b[39m: timeout,\n\u001b[0;32m    526\u001b[0m     \u001b[38;5;124m'\u001b[39m\u001b[38;5;124mallow_redirects\u001b[39m\u001b[38;5;124m'\u001b[39m: allow_redirects,\n\u001b[0;32m    527\u001b[0m }\n\u001b[0;32m    528\u001b[0m send_kwargs\u001b[38;5;241m.\u001b[39mupdate(settings)\n\u001b[1;32m--> 529\u001b[0m resp \u001b[38;5;241m=\u001b[39m \u001b[38;5;28;43mself\u001b[39;49m\u001b[38;5;241;43m.\u001b[39;49m\u001b[43msend\u001b[49m\u001b[43m(\u001b[49m\u001b[43mprep\u001b[49m\u001b[43m,\u001b[49m\u001b[43m \u001b[49m\u001b[38;5;241;43m*\u001b[39;49m\u001b[38;5;241;43m*\u001b[39;49m\u001b[43msend_kwargs\u001b[49m\u001b[43m)\u001b[49m\n\u001b[0;32m    531\u001b[0m \u001b[38;5;28;01mreturn\u001b[39;00m resp\n",
      "File \u001b[1;32mc:\\Users\\Elysia\\Downloads\\Anaconda\\envs\\v1\\lib\\site-packages\\requests\\sessions.py:645\u001b[0m, in \u001b[0;36mSession.send\u001b[1;34m(self, request, **kwargs)\u001b[0m\n\u001b[0;32m    642\u001b[0m start \u001b[38;5;241m=\u001b[39m preferred_clock()\n\u001b[0;32m    644\u001b[0m \u001b[38;5;66;03m# Send the request\u001b[39;00m\n\u001b[1;32m--> 645\u001b[0m r \u001b[38;5;241m=\u001b[39m \u001b[43madapter\u001b[49m\u001b[38;5;241;43m.\u001b[39;49m\u001b[43msend\u001b[49m\u001b[43m(\u001b[49m\u001b[43mrequest\u001b[49m\u001b[43m,\u001b[49m\u001b[43m \u001b[49m\u001b[38;5;241;43m*\u001b[39;49m\u001b[38;5;241;43m*\u001b[39;49m\u001b[43mkwargs\u001b[49m\u001b[43m)\u001b[49m\n\u001b[0;32m    647\u001b[0m \u001b[38;5;66;03m# Total elapsed time of the request (approximately)\u001b[39;00m\n\u001b[0;32m    648\u001b[0m elapsed \u001b[38;5;241m=\u001b[39m preferred_clock() \u001b[38;5;241m-\u001b[39m start\n",
      "File \u001b[1;32mc:\\Users\\Elysia\\Downloads\\Anaconda\\envs\\v1\\lib\\site-packages\\requests\\adapters.py:517\u001b[0m, in \u001b[0;36mHTTPAdapter.send\u001b[1;34m(self, request, stream, timeout, verify, cert, proxies)\u001b[0m\n\u001b[0;32m    513\u001b[0m         \u001b[38;5;28;01mraise\u001b[39;00m ProxyError(e, request\u001b[38;5;241m=\u001b[39mrequest)\n\u001b[0;32m    515\u001b[0m     \u001b[38;5;28;01mif\u001b[39;00m \u001b[38;5;28misinstance\u001b[39m(e\u001b[38;5;241m.\u001b[39mreason, _SSLError):\n\u001b[0;32m    516\u001b[0m         \u001b[38;5;66;03m# This branch is for urllib3 v1.22 and later.\u001b[39;00m\n\u001b[1;32m--> 517\u001b[0m         \u001b[38;5;28;01mraise\u001b[39;00m SSLError(e, request\u001b[38;5;241m=\u001b[39mrequest)\n\u001b[0;32m    519\u001b[0m     \u001b[38;5;28;01mraise\u001b[39;00m \u001b[38;5;167;01mConnectionError\u001b[39;00m(e, request\u001b[38;5;241m=\u001b[39mrequest)\n\u001b[0;32m    521\u001b[0m \u001b[38;5;28;01mexcept\u001b[39;00m ClosedPoolError \u001b[38;5;28;01mas\u001b[39;00m e:\n",
      "\u001b[1;31mSSLError\u001b[0m: HTTPSConnectionPool(host='huggingface.co', port=443): Max retries exceeded with url: /datasets (Caused by SSLError(SSLZeroReturnError(6, 'TLS/SSL connection has been closed (EOF) (_ssl.c:1131)')))"
     ]
    }
   ],
   "source": [
    "dataset_web_respond = requests.get(url=URL_HUB['hug_dataset'])\n",
    "dataset_html = dataset_web_respond.text\n",
    "soup = bs(dataset_html,'lxml')\n",
    "h4_labels = soup.find_all('h4')\n",
    "\n",
    "for h4_lable in h4_labels:\n",
    "    h4_lable = h4_lable.string\n",
    "    URL_DATA_HUB[h4_lable] = URL_HUB['hug_dataset'] + '/' + str(h4_lable)\n",
    "    print(URL_DATA_HUB[h4_lable])\n"
   ]
  },
  {
   "cell_type": "code",
   "execution_count": null,
   "metadata": {
    "ExecuteTime": {
     "start_time": "2024-03-14T06:46:00.849339800Z"
    }
   },
   "outputs": [
    {
     "data": {
      "text/plain": [
       "False"
      ]
     },
     "execution_count": 9,
     "metadata": {},
     "output_type": "execute_result"
    }
   ],
   "source": [
    "os.path.exists(r'c:\\Users\\Elysia\\Desktop\\learn\\课件\\二下\\python\\lab_1\\html_doc\\storytracer/internet_archive_books_en.html')"
   ]
  },
  {
   "cell_type": "code",
   "execution_count": null,
   "metadata": {},
   "outputs": [
    {
     "data": {
      "text/plain": [
       "'c:\\\\Users\\\\Elysia\\\\Desktop\\\\learn\\\\课件\\\\二下\\\\python\\\\lab_1\\\\html_doc'"
      ]
     },
     "execution_count": 10,
     "metadata": {},
     "output_type": "execute_result"
    }
   ],
   "source": [
    "html_path"
   ]
  },
  {
   "cell_type": "code",
   "execution_count": null,
   "metadata": {
    "ExecuteTime": {
     "end_time": "2024-03-14T06:46:00.895706500Z",
     "start_time": "2024-03-14T06:46:00.856965500Z"
    },
    "collapsed": false
   },
   "outputs": [
    {
     "name": "stderr",
     "output_type": "stream",
     "text": [
      "  0%|          | 0/30 [00:00<?, ?it/s]"
     ]
    },
    {
     "name": "stdout",
     "output_type": "stream",
     "text": [
      "Cohere/wikipedia-2023-11-embed-multilingual-v3 https://huggingface.co/datasets/Cohere/wikipedia-2023-11-embed-multilingual-v3\n",
      "MarkrAI/KoCommercial-Dataset https://huggingface.co/datasets/MarkrAI/KoCommercial-Dataset\n",
      "microsoft/orca-math-word-problems-200k https://huggingface.co/datasets/microsoft/orca-math-word-problems-200k\n",
      "storytracer/US-PD-Books https://huggingface.co/datasets/storytracer/US-PD-Books\n",
      "abacusai/SystemChat https://huggingface.co/datasets/abacusai/SystemChat\n",
      "HuggingFaceM4/WebSight https://huggingface.co/datasets/HuggingFaceM4/WebSight\n"
     ]
    },
    {
     "name": "stderr",
     "output_type": "stream",
     "text": [
      "c:\\Users\\Elysia\\Downloads\\Anaconda\\envs\\v1\\lib\\site-packages\\urllib3\\connectionpool.py:853: InsecureRequestWarning: Unverified HTTPS request is being made. Adding certificate verification is strongly advised. See: https://urllib3.readthedocs.io/en/latest/advanced-usage.html#ssl-warnings\n",
      "  warnings.warn((\n",
      " 20%|██        | 6/30 [00:01<00:07,  3.03it/s]"
     ]
    },
    {
     "name": "stdout",
     "output_type": "stream",
     "text": [
      "fka/awesome-chatgpt-prompts https://huggingface.co/datasets/fka/awesome-chatgpt-prompts\n",
      "WenhaoWang/VidProM https://huggingface.co/datasets/WenhaoWang/VidProM\n",
      "CohereForAI/aya_collection_language_split https://huggingface.co/datasets/CohereForAI/aya_collection_language_split\n"
     ]
    },
    {
     "name": "stderr",
     "output_type": "stream",
     "text": [
      "c:\\Users\\Elysia\\Downloads\\Anaconda\\envs\\v1\\lib\\site-packages\\urllib3\\connectionpool.py:853: InsecureRequestWarning: Unverified HTTPS request is being made. Adding certificate verification is strongly advised. See: https://urllib3.readthedocs.io/en/latest/advanced-usage.html#ssl-warnings\n",
      "  warnings.warn((\n",
      " 30%|███       | 9/30 [00:04<00:11,  1.84it/s]"
     ]
    },
    {
     "name": "stdout",
     "output_type": "stream",
     "text": [
      "bigcode/the-stack-v2 https://huggingface.co/datasets/bigcode/the-stack-v2\n",
      "princeton-nlp/SWE-bench https://huggingface.co/datasets/princeton-nlp/SWE-bench\n",
      "lamini/earnings-calls-qa https://huggingface.co/datasets/lamini/earnings-calls-qa\n"
     ]
    },
    {
     "name": "stderr",
     "output_type": "stream",
     "text": [
      "c:\\Users\\Elysia\\Downloads\\Anaconda\\envs\\v1\\lib\\site-packages\\urllib3\\connectionpool.py:853: InsecureRequestWarning: Unverified HTTPS request is being made. Adding certificate verification is strongly advised. See: https://urllib3.readthedocs.io/en/latest/advanced-usage.html#ssl-warnings\n",
      "  warnings.warn((\n",
      " 40%|████      | 12/30 [00:06<00:10,  1.74it/s]"
     ]
    },
    {
     "name": "stdout",
     "output_type": "stream",
     "text": [
      "Anthropic/hh-rlhf https://huggingface.co/datasets/Anthropic/hh-rlhf\n",
      "Locutusque/UltraTextbooks-2.0 https://huggingface.co/datasets/Locutusque/UltraTextbooks-2.0\n",
      "Locutusque/arc-cot https://huggingface.co/datasets/Locutusque/arc-cot\n",
      "databricks/databricks-dolly-15k https://huggingface.co/datasets/databricks/databricks-dolly-15k\n",
      "ontocord/onto4all https://huggingface.co/datasets/ontocord/onto4all\n",
      "cognitivecomputations/dolphin https://huggingface.co/datasets/cognitivecomputations/dolphin\n"
     ]
    },
    {
     "name": "stderr",
     "output_type": "stream",
     "text": [
      "c:\\Users\\Elysia\\Downloads\\Anaconda\\envs\\v1\\lib\\site-packages\\urllib3\\connectionpool.py:853: InsecureRequestWarning: Unverified HTTPS request is being made. Adding certificate verification is strongly advised. See: https://urllib3.readthedocs.io/en/latest/advanced-usage.html#ssl-warnings\n",
      "  warnings.warn((\n",
      " 60%|██████    | 18/30 [00:07<00:04,  2.48it/s]"
     ]
    },
    {
     "name": "stdout",
     "output_type": "stream",
     "text": [
      "DIBT/10k_prompts_ranked https://huggingface.co/datasets/DIBT/10k_prompts_ranked\n",
      "allenai/dolma https://huggingface.co/datasets/allenai/dolma\n"
     ]
    },
    {
     "name": "stderr",
     "output_type": "stream",
     "text": [
      "c:\\Users\\Elysia\\Downloads\\Anaconda\\envs\\v1\\lib\\site-packages\\urllib3\\connectionpool.py:853: InsecureRequestWarning: Unverified HTTPS request is being made. Adding certificate verification is strongly advised. See: https://urllib3.readthedocs.io/en/latest/advanced-usage.html#ssl-warnings\n",
      "  warnings.warn((\n",
      " 67%|██████▋   | 20/30 [00:08<00:04,  2.30it/s]"
     ]
    },
    {
     "name": "stdout",
     "output_type": "stream",
     "text": [
      "teknium/OpenHermes-2.5 https://huggingface.co/datasets/teknium/OpenHermes-2.5\n",
      "argilla/dpo-mix-7k https://huggingface.co/datasets/argilla/dpo-mix-7k\n",
      "CohereForAI/aya_dataset https://huggingface.co/datasets/CohereForAI/aya_dataset\n"
     ]
    },
    {
     "name": "stderr",
     "output_type": "stream",
     "text": [
      "c:\\Users\\Elysia\\Downloads\\Anaconda\\envs\\v1\\lib\\site-packages\\urllib3\\connectionpool.py:853: InsecureRequestWarning: Unverified HTTPS request is being made. Adding certificate verification is strongly advised. See: https://urllib3.readthedocs.io/en/latest/advanced-usage.html#ssl-warnings\n",
      "  warnings.warn((\n",
      " 77%|███████▋  | 23/30 [00:10<00:03,  2.15it/s]"
     ]
    },
    {
     "name": "stdout",
     "output_type": "stream",
     "text": [
      "Open-Orca/OpenOrca https://huggingface.co/datasets/Open-Orca/OpenOrca\n",
      "HuggingFaceH4/ultrachat_200k https://huggingface.co/datasets/HuggingFaceH4/ultrachat_200k\n"
     ]
    },
    {
     "name": "stderr",
     "output_type": "stream",
     "text": [
      "c:\\Users\\Elysia\\Downloads\\Anaconda\\envs\\v1\\lib\\site-packages\\urllib3\\connectionpool.py:853: InsecureRequestWarning: Unverified HTTPS request is being made. Adding certificate verification is strongly advised. See: https://urllib3.readthedocs.io/en/latest/advanced-usage.html#ssl-warnings\n",
      "  warnings.warn((\n",
      " 83%|████████▎ | 25/30 [00:12<00:03,  1.67it/s]"
     ]
    },
    {
     "name": "stdout",
     "output_type": "stream",
     "text": [
      "yixuantt/MultiHopRAG https://huggingface.co/datasets/yixuantt/MultiHopRAG\n"
     ]
    },
    {
     "name": "stderr",
     "output_type": "stream",
     "text": [
      "c:\\Users\\Elysia\\Downloads\\Anaconda\\envs\\v1\\lib\\site-packages\\urllib3\\connectionpool.py:853: InsecureRequestWarning: Unverified HTTPS request is being made. Adding certificate verification is strongly advised. See: https://urllib3.readthedocs.io/en/latest/advanced-usage.html#ssl-warnings\n",
      "  warnings.warn((\n",
      " 87%|████████▋ | 26/30 [00:14<00:03,  1.22it/s]"
     ]
    },
    {
     "name": "stdout",
     "output_type": "stream",
     "text": [
      "ai4bharat/sangraha https://huggingface.co/datasets/ai4bharat/sangraha\n"
     ]
    },
    {
     "name": "stderr",
     "output_type": "stream",
     "text": [
      "c:\\Users\\Elysia\\Downloads\\Anaconda\\envs\\v1\\lib\\site-packages\\urllib3\\connectionpool.py:853: InsecureRequestWarning: Unverified HTTPS request is being made. Adding certificate verification is strongly advised. See: https://urllib3.readthedocs.io/en/latest/advanced-usage.html#ssl-warnings\n",
      "  warnings.warn((\n",
      "100%|██████████| 30/30 [00:16<00:00,  1.84it/s]"
     ]
    },
    {
     "name": "stdout",
     "output_type": "stream",
     "text": [
      "wikipedia https://huggingface.co/datasets/wikipedia\n",
      "glaiveai/glaive-function-calling-v2 https://huggingface.co/datasets/glaiveai/glaive-function-calling-v2\n",
      "espnet/yodas https://huggingface.co/datasets/espnet/yodas\n"
     ]
    },
    {
     "name": "stderr",
     "output_type": "stream",
     "text": [
      "\n"
     ]
    }
   ],
   "source": [
    "for k,url in tqdm(URL_DATA_HUB.items()):\n",
    "    k_ = k.replace('/','_')\n",
    "    if not os.path.exists(os.path.join(html_path,k_+'.html')):\n",
    "        try:\n",
    "            respond = requests.get(url,verify=False,headers={'Connection':'close'}).text\n",
    "            HTML_DOC[k_] = respond\n",
    "            with open(os.path.join(html_path,k_+'.html'),'bw') as f:\n",
    "                f.write(respond.encode('utf-8'))\n",
    "                time.sleep(0.01)\n",
    "        except Exception as e:\n",
    "            flag = 0\n",
    "            for i in range(5):\n",
    "                try:\n",
    "                    respond = requests.get(url,verify=False,headers={'Connection':'close'}).text\n",
    "                    HTML_DOC[k_] = respond\n",
    "                    with open(os.path.join(html_path,k_+'.html'),'bw') as f:\n",
    "                        f.write(respond.encode('utf-8'))\n",
    "                        time.sleep(0.01)\n",
    "                except Exception:\n",
    "                    time.sleep(0.01)\n",
    "                else:\n",
    "                    if i == 4:\n",
    "                        URL_DATA_ERROR_HUB[k_] = k_\n",
    "            print('ERROR',os.path.join(html_path,k+'.html'))\n",
    "            time.sleep(0.01)\n",
    "    else:\n",
    "        with open(os.path.join(html_path,k_+'.html'),'r', encoding='utf-8') as f:\n",
    "            HTML_DOC[k_] = f.read()"
   ]
  },
  {
   "cell_type": "code",
   "execution_count": null,
   "metadata": {},
   "outputs": [],
   "source": [
    "def str2num(s):\n",
    "    try:\n",
    "        return int(s.replace(',',''))\n",
    "    except Exception:\n",
    "        return s"
   ]
  },
  {
   "cell_type": "code",
   "execution_count": null,
   "metadata": {
    "ExecuteTime": {
     "end_time": "2024-03-14T06:46:22.779648800Z",
     "start_time": "2024-03-14T06:46:22.761286200Z"
    }
   },
   "outputs": [],
   "source": [
    "def find_page_link(html_doc):\n",
    "    \"\"\"\n",
    "    页面链接\n",
    "    \"\"\"\n",
    "    soup = bs(html_doc,'lxml')\n",
    "    label = soup.find('h1',attrs={\n",
    "        'class':\"flex flex-wrap items-center leading-tight mb-3 text-lg md:text-xl\"\n",
    "                                       })\n",
    "    inner = label.contents\n",
    "    page_link = ''\n",
    "    err = '!!!'\n",
    "    try:\n",
    "        page_link += inner[2].a.string + ' '\n",
    "    except Exception:\n",
    "        page_link += err\n",
    "    try:\n",
    "        page_link += inner[4].a.string + ' '\n",
    "    except Exception:\n",
    "        page_link += err\n",
    "    try:\n",
    "        page_link += inner[6].find_all('button')[1].string + ' '\n",
    "    except Exception:\n",
    "        page_link += err\n",
    "    return page_link\n",
    "\n",
    "def find_download_time(html_doc):\n",
    "    dom = etree.HTML(html_doc)\n",
    "    download_time = -1\n",
    "    try:\n",
    "        download_time = dom.xpath('/html/body/div/main/div[2]/section[2]/dl/dd/text()')[0]\n",
    "    except Exception:\n",
    "        pass\n",
    "    return str2num(download_time)\n",
    "\n",
    "def find_dataset_numb(html_doc):\n",
    "    index_1 = html_doc.rfind('Number of rows')\n",
    "    index_2 = html_doc[index_1:].find('<!-- HTML_TAG_START -->') + len('<!-- HTML_TAG_START -->')\n",
    "    index_3 = html_doc[index_1:].find('<!-- HTML_TAG_END -->')\n",
    "    ret = html_doc[index_1:][index_2:index_3]\n",
    "    return str2num(ret)\n",
    "\n",
    "def find_dataset_size(html_doc:str):\n",
    "    index_1 = html_doc.rfind('Size of downloaded dataset files')\n",
    "    index_2 = html_doc[index_1:].find('<!-- HTML_TAG_START -->') + len('<!-- HTML_TAG_START -->')\n",
    "    index_3 = html_doc[index_1:].find('<!-- HTML_TAG_END -->')\n",
    "    re = html_doc[index_1:][index_2:index_3]\n",
    "    if 'B' in re:\n",
    "        re_num = eval(re[:re.find('B')-1])\n",
    "        if 'K' in re:\n",
    "            re_num = re_num / 1024\n",
    "        elif 'M' in re:\n",
    "            re_num = re_num\n",
    "        elif 'G' in re:\n",
    "            re_num = re_num * 1024\n",
    "        elif 'T' in re:\n",
    "            re_num = re_num * 1024 * 1024\n",
    "        else:\n",
    "            re_num = re_num / (1024 * 1024)\n",
    "        return str2num(re_num)\n",
    "    else:\n",
    "        return -1\n",
    "    \n",
    "def find_dataset_viewer(file_name,html_doc):\n",
    "    soup = bs(html_doc,'lxml')\n",
    "    dom = etree.HTML(html_doc)\n",
    "    try:\n",
    "        try:\n",
    "            dataset_numb = dom.xpath('/html/body/div/main/div[2]/section[1]/div[5]/div')[0]\n",
    "        except Exception:\n",
    "            dataset_numb = dom.xpath('/html/body/div/main/div[2]/section[1]/div[4]')[0]\n",
    "        text = etree.tostring(dataset_numb)\n",
    "        soup_ = bs(text,'lxml').html.body\n",
    "        p = soup_\n",
    "        writeinner = soup_.get_text()\n",
    "        text = re.sub(r'[\\r\\n]+', '\\n', writeinner)\n",
    "        with open(os.path.join(viewer_path,file_name+'.html'),'bw') as f:\n",
    "            f.write(text.encode('utf-8'))\n",
    "    except Exception:\n",
    "        pass\n",
    "    finally:\n",
    "        return(os.path.join(viewer_path,file_name+'.html'))"
   ]
  },
  {
   "cell_type": "code",
   "execution_count": null,
   "metadata": {
    "ExecuteTime": {
     "end_time": "2024-03-14T06:46:24.402111300Z",
     "start_time": "2024-03-14T06:46:24.396454500Z"
    }
   },
   "outputs": [
    {
     "name": "stdout",
     "output_type": "stream",
     "text": [
      "--------------------------------\n",
      "page_link: Cohere wikipedia-2023-11-embed-multilingual-v3 72 \n",
      "download_time: 308\n",
      "dataset_size: 548864 MB\n",
      "dataset_numb: 247154006\n",
      "viewer_path lab_1\\viewer\\Cohere_wikipedia-2023-11-embed-multilingual-v3.html\n",
      "--------------------------------\n",
      "page_link: MarkrAI KoCommercial-Dataset 52 \n",
      "download_time: 119\n",
      "dataset_size: 1863.68 MB\n",
      "dataset_numb: 1444372\n",
      "viewer_path lab_1\\viewer\\MarkrAI_KoCommercial-Dataset.html\n",
      "--------------------------------\n",
      "page_link: microsoft orca-math-word-problems-200k 206 \n",
      "download_time: 2767\n",
      "dataset_size: 84.2 MB\n",
      "dataset_numb: 200035\n",
      "viewer_path lab_1\\viewer\\microsoft_orca-math-word-problems-200k.html\n",
      "--------------------------------\n",
      "page_link: storytracer US-PD-Books 149 \n",
      "download_time: 34\n",
      "dataset_size: 87.4 MB\n",
      "dataset_numb: 653983\n",
      "viewer_path lab_1\\viewer\\storytracer_US-PD-Books.html\n",
      "--------------------------------\n",
      "page_link: abacusai SystemChat 82 \n",
      "download_time: 361\n",
      "dataset_size: 21.5 MB\n",
      "dataset_numb: 7020\n",
      "viewer_path lab_1\\viewer\\abacusai_SystemChat.html\n",
      "--------------------------------\n",
      "page_link: HuggingFaceM4 WebSight 240 \n",
      "download_time: 599\n",
      "dataset_size: 324608 MB\n",
      "dataset_numb: 2745658\n",
      "viewer_path lab_1\\viewer\\HuggingFaceM4_WebSight.html\n",
      "--------------------------------\n",
      "page_link: fka awesome-chatgpt-prompts 4.82k \n",
      "download_time: 7455\n",
      "dataset_size: 7.114410400390624e-05 MB\n",
      "dataset_numb: 153\n",
      "viewer_path lab_1\\viewer\\fka_awesome-chatgpt-prompts.html\n",
      "--------------------------------\n",
      "page_link: WenhaoWang VidProM 14 \n",
      "download_time: 17\n",
      "dataset_size: -1 MB\n",
      "dataset_numb: \n",
      "viewer_path lab_1\\viewer\\WenhaoWang_VidProM.html\n",
      "--------------------------------\n",
      "page_link: CohereForAI aya_collection_language_split 23 \n",
      "download_time: 11\n",
      "dataset_size: 158720 MB\n",
      "dataset_numb: 513758189\n",
      "viewer_path lab_1\\viewer\\CohereForAI_aya_collection_language_split.html\n",
      "--------------------------------\n",
      "page_link: bigcode the-stack-v2 130 \n",
      "download_time: 670\n",
      "dataset_size: -1 MB\n",
      "dataset_numb: \n",
      "viewer_path lab_1\\viewer\\bigcode_the-stack-v2.html\n",
      "--------------------------------\n",
      "page_link: princeton-nlp SWE-bench 30 \n",
      "download_time: 911\n",
      "dataset_size: 120 MB\n",
      "dataset_numb: 21527\n",
      "viewer_path lab_1\\viewer\\princeton-nlp_SWE-bench.html\n",
      "--------------------------------\n",
      "page_link: lamini earnings-calls-qa 17 \n",
      "download_time: 0\n",
      "dataset_size: 3983.36 MB\n",
      "dataset_numb: 860164\n",
      "viewer_path lab_1\\viewer\\lamini_earnings-calls-qa.html\n",
      "--------------------------------\n",
      "Anthropic_hh-rlhf\n",
      "'NoneType' object has no attribute 'contents'\n",
      "--------------------------------\n",
      "page_link: Locutusque UltraTextbooks-2.0 24 \n",
      "download_time: 195\n",
      "dataset_size: 6287.36 MB\n",
      "dataset_numb: 3220278\n",
      "viewer_path lab_1\\viewer\\Locutusque_UltraTextbooks-2.0.html\n",
      "--------------------------------\n",
      "page_link: Locutusque arc-cot 11 \n",
      "download_time: 6\n",
      "dataset_size: 0.00045108795166015625 MB\n",
      "dataset_numb: 1068\n",
      "viewer_path lab_1\\viewer\\Locutusque_arc-cot.html\n",
      "--------------------------------\n",
      "databricks_databricks-dolly-15k\n",
      "'NoneType' object has no attribute 'contents'\n",
      "--------------------------------\n",
      "page_link: ontocord onto4all 11 \n",
      "download_time: 0\n",
      "dataset_size: -1 MB\n",
      "dataset_numb: \n",
      "viewer_path lab_1\\viewer\\ontocord_onto4all.html\n",
      "--------------------------------\n",
      "page_link: cognitivecomputations dolphin 336 \n",
      "download_time: 2587\n",
      "dataset_size: -1 MB\n",
      "dataset_numb: 3731947\n",
      "viewer_path lab_1\\viewer\\cognitivecomputations_dolphin.html\n",
      "--------------------------------\n",
      "DIBT_10k_prompts_ranked\n",
      "'NoneType' object has no attribute 'contents'\n",
      "--------------------------------\n",
      "page_link: allenai dolma 643 \n",
      "download_time: 6175\n",
      "dataset_size: -1 MB\n",
      "dataset_numb: \n",
      "viewer_path lab_1\\viewer\\allenai_dolma.html\n",
      "--------------------------------\n",
      "page_link: teknium OpenHermes-2.5 448 \n",
      "download_time: 12076\n",
      "dataset_size: 1986.56 MB\n",
      "dataset_numb: 1001551\n",
      "viewer_path lab_1\\viewer\\teknium_OpenHermes-2.5.html\n",
      "--------------------------------\n",
      "page_link: argilla dpo-mix-7k 90 \n",
      "download_time: 6189\n",
      "dataset_size: 24.2 MB\n",
      "dataset_numb: 7500\n",
      "viewer_path lab_1\\viewer\\argilla_dpo-mix-7k.html\n",
      "--------------------------------\n",
      "page_link: CohereForAI aya_dataset 189 \n",
      "download_time: 1931\n",
      "dataset_size: 138 MB\n",
      "dataset_numb: 205568\n",
      "viewer_path lab_1\\viewer\\CohereForAI_aya_dataset.html\n",
      "--------------------------------\n",
      "page_link: Open-Orca OpenOrca 1.11k \n",
      "download_time: 17559\n",
      "dataset_size: -1 MB\n",
      "dataset_numb: 2914896\n",
      "viewer_path lab_1\\viewer\\Open-Orca_OpenOrca.html\n",
      "--------------------------------\n",
      "page_link: HuggingFaceH4 ultrachat_200k 296 \n",
      "download_time: 36571\n",
      "dataset_size: 1658.88 MB\n",
      "dataset_numb: 515311\n",
      "viewer_path lab_1\\viewer\\HuggingFaceH4_ultrachat_200k.html\n",
      "--------------------------------\n",
      "page_link: yixuantt MultiHopRAG 14 \n",
      "download_time: 2081\n",
      "dataset_size: 12 MB\n",
      "dataset_numb: 3165\n",
      "viewer_path lab_1\\viewer\\yixuantt_MultiHopRAG.html\n",
      "--------------------------------\n",
      "page_link: ai4bharat sangraha 11 \n",
      "download_time: 154\n",
      "dataset_size: -1 MB\n",
      "dataset_numb: \n",
      "viewer_path lab_1\\viewer\\ai4bharat_sangraha.html\n",
      "--------------------------------\n",
      "wikipedia\n",
      "'NoneType' object has no attribute 'contents'\n",
      "--------------------------------\n",
      "page_link: glaiveai glaive-function-calling-v2 192 \n",
      "download_time: 2907\n",
      "dataset_size: 271 MB\n",
      "dataset_numb: 112960\n",
      "viewer_path lab_1\\viewer\\glaiveai_glaive-function-calling-v2.html\n",
      "--------------------------------\n",
      "page_link: espnet yodas 76 \n",
      "download_time: 37603\n",
      "dataset_size: -1 MB\n",
      "dataset_numb: 5382184\n",
      "viewer_path lab_1\\viewer\\espnet_yodas.html\n",
      "--------------------------------\n"
     ]
    }
   ],
   "source": [
    "\n",
    "print('--------------------------------')\n",
    "for k,v in HTML_DOC.items():\n",
    "    try:\n",
    "        page_link = find_page_link(v)\n",
    "        download_time = find_download_time(v)\n",
    "        dataset_size = find_dataset_size(v)\n",
    "        dataset_numb = find_dataset_numb(v)\n",
    "        viewer_paths = find_dataset_viewer(k,v)\n",
    "    except Exception as e:\n",
    "        print(k)\n",
    "        print(e)\n",
    "    else:\n",
    "        print('page_link:',page_link)\n",
    "        print('download_time:',download_time)\n",
    "        print('dataset_size:',dataset_size,'MB')\n",
    "        print('dataset_numb:',dataset_numb)\n",
    "        print('viewer_path',viewer_paths[43:])\n",
    "\n",
    "    print('--------------------------------')"
   ]
  }
 ],
 "metadata": {
  "kernelspec": {
   "display_name": "v1",
   "language": "python",
   "name": "python3"
  },
  "language_info": {
   "codemirror_mode": {
    "name": "ipython",
    "version": 3
   },
   "file_extension": ".py",
   "mimetype": "text/x-python",
   "name": "python",
   "nbconvert_exporter": "python",
   "pygments_lexer": "ipython3",
   "version": "3.8.18"
  }
 },
 "nbformat": 4,
 "nbformat_minor": 2
}
